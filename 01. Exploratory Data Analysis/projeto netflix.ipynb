{
 "cells": [
  {
   "cell_type": "code",
   "execution_count": 1,
   "metadata": {},
   "outputs": [],
   "source": [
    "import numpy as np\n",
    "import pandas as pd \n",
    "import matplotlib as plt\n",
    "import seaborn as sns\n",
    "import matplotlib.pyplot as plt\n",
    "import plotly.graph_objects as go\n",
    "\n",
    "%matplotlib inline"
   ]
  },
  {
   "cell_type": "code",
   "execution_count": 2,
   "metadata": {},
   "outputs": [],
   "source": [
    "df = pd.read_csv('C:\\\\Users\\\\hanie\\\\Desktop\\\\DataFrames\\\\netflix.csv')"
   ]
  },
  {
   "cell_type": "code",
   "execution_count": 3,
   "metadata": {},
   "outputs": [
    {
     "data": {
      "text/html": [
       "<div>\n",
       "<style scoped>\n",
       "    .dataframe tbody tr th:only-of-type {\n",
       "        vertical-align: middle;\n",
       "    }\n",
       "\n",
       "    .dataframe tbody tr th {\n",
       "        vertical-align: top;\n",
       "    }\n",
       "\n",
       "    .dataframe thead th {\n",
       "        text-align: right;\n",
       "    }\n",
       "</style>\n",
       "<table border=\"1\" class=\"dataframe\">\n",
       "  <thead>\n",
       "    <tr style=\"text-align: right;\">\n",
       "      <th></th>\n",
       "      <th>show_id</th>\n",
       "      <th>type</th>\n",
       "      <th>title</th>\n",
       "      <th>director</th>\n",
       "      <th>cast</th>\n",
       "      <th>country</th>\n",
       "      <th>date_added</th>\n",
       "      <th>release_year</th>\n",
       "      <th>rating</th>\n",
       "      <th>duration</th>\n",
       "      <th>listed_in</th>\n",
       "      <th>description</th>\n",
       "    </tr>\n",
       "  </thead>\n",
       "  <tbody>\n",
       "    <tr>\n",
       "      <th>0</th>\n",
       "      <td>81145628</td>\n",
       "      <td>Movie</td>\n",
       "      <td>Norm of the North: King Sized Adventure</td>\n",
       "      <td>Richard Finn, Tim Maltby</td>\n",
       "      <td>Alan Marriott, Andrew Toth, Brian Dobson, Cole...</td>\n",
       "      <td>United States, India, South Korea, China</td>\n",
       "      <td>September 9, 2019</td>\n",
       "      <td>2019</td>\n",
       "      <td>TV-PG</td>\n",
       "      <td>90 min</td>\n",
       "      <td>Children &amp; Family Movies, Comedies</td>\n",
       "      <td>Before planning an awesome wedding for his gra...</td>\n",
       "    </tr>\n",
       "    <tr>\n",
       "      <th>1</th>\n",
       "      <td>80117401</td>\n",
       "      <td>Movie</td>\n",
       "      <td>Jandino: Whatever it Takes</td>\n",
       "      <td>NaN</td>\n",
       "      <td>Jandino Asporaat</td>\n",
       "      <td>United Kingdom</td>\n",
       "      <td>September 9, 2016</td>\n",
       "      <td>2016</td>\n",
       "      <td>TV-MA</td>\n",
       "      <td>94 min</td>\n",
       "      <td>Stand-Up Comedy</td>\n",
       "      <td>Jandino Asporaat riffs on the challenges of ra...</td>\n",
       "    </tr>\n",
       "    <tr>\n",
       "      <th>2</th>\n",
       "      <td>70234439</td>\n",
       "      <td>TV Show</td>\n",
       "      <td>Transformers Prime</td>\n",
       "      <td>NaN</td>\n",
       "      <td>Peter Cullen, Sumalee Montano, Frank Welker, J...</td>\n",
       "      <td>United States</td>\n",
       "      <td>September 8, 2018</td>\n",
       "      <td>2013</td>\n",
       "      <td>TV-Y7-FV</td>\n",
       "      <td>1 Season</td>\n",
       "      <td>Kids' TV</td>\n",
       "      <td>With the help of three human allies, the Autob...</td>\n",
       "    </tr>\n",
       "    <tr>\n",
       "      <th>3</th>\n",
       "      <td>80058654</td>\n",
       "      <td>TV Show</td>\n",
       "      <td>Transformers: Robots in Disguise</td>\n",
       "      <td>NaN</td>\n",
       "      <td>Will Friedle, Darren Criss, Constance Zimmer, ...</td>\n",
       "      <td>United States</td>\n",
       "      <td>September 8, 2018</td>\n",
       "      <td>2016</td>\n",
       "      <td>TV-Y7</td>\n",
       "      <td>1 Season</td>\n",
       "      <td>Kids' TV</td>\n",
       "      <td>When a prison ship crash unleashes hundreds of...</td>\n",
       "    </tr>\n",
       "    <tr>\n",
       "      <th>4</th>\n",
       "      <td>80125979</td>\n",
       "      <td>Movie</td>\n",
       "      <td>#realityhigh</td>\n",
       "      <td>Fernando Lebrija</td>\n",
       "      <td>Nesta Cooper, Kate Walsh, John Michael Higgins...</td>\n",
       "      <td>United States</td>\n",
       "      <td>September 8, 2017</td>\n",
       "      <td>2017</td>\n",
       "      <td>TV-14</td>\n",
       "      <td>99 min</td>\n",
       "      <td>Comedies</td>\n",
       "      <td>When nerdy high schooler Dani finally attracts...</td>\n",
       "    </tr>\n",
       "    <tr>\n",
       "      <th>5</th>\n",
       "      <td>80163890</td>\n",
       "      <td>TV Show</td>\n",
       "      <td>Apaches</td>\n",
       "      <td>NaN</td>\n",
       "      <td>Alberto Ammann, Eloy Azorín, Verónica Echegui,...</td>\n",
       "      <td>Spain</td>\n",
       "      <td>September 8, 2017</td>\n",
       "      <td>2016</td>\n",
       "      <td>TV-MA</td>\n",
       "      <td>1 Season</td>\n",
       "      <td>Crime TV Shows, International TV Shows, Spanis...</td>\n",
       "      <td>A young journalist is forced into a life of cr...</td>\n",
       "    </tr>\n",
       "    <tr>\n",
       "      <th>6</th>\n",
       "      <td>70304989</td>\n",
       "      <td>Movie</td>\n",
       "      <td>Automata</td>\n",
       "      <td>Gabe Ibáñez</td>\n",
       "      <td>Antonio Banderas, Dylan McDermott, Melanie Gri...</td>\n",
       "      <td>Bulgaria, United States, Spain, Canada</td>\n",
       "      <td>September 8, 2017</td>\n",
       "      <td>2014</td>\n",
       "      <td>R</td>\n",
       "      <td>110 min</td>\n",
       "      <td>International Movies, Sci-Fi &amp; Fantasy, Thrillers</td>\n",
       "      <td>In a dystopian future, an insurance adjuster f...</td>\n",
       "    </tr>\n",
       "    <tr>\n",
       "      <th>7</th>\n",
       "      <td>80164077</td>\n",
       "      <td>Movie</td>\n",
       "      <td>Fabrizio Copano: Solo pienso en mi</td>\n",
       "      <td>Rodrigo Toro, Francisco Schultz</td>\n",
       "      <td>Fabrizio Copano</td>\n",
       "      <td>Chile</td>\n",
       "      <td>September 8, 2017</td>\n",
       "      <td>2017</td>\n",
       "      <td>TV-MA</td>\n",
       "      <td>60 min</td>\n",
       "      <td>Stand-Up Comedy</td>\n",
       "      <td>Fabrizio Copano takes audience participation t...</td>\n",
       "    </tr>\n",
       "    <tr>\n",
       "      <th>8</th>\n",
       "      <td>80117902</td>\n",
       "      <td>TV Show</td>\n",
       "      <td>Fire Chasers</td>\n",
       "      <td>NaN</td>\n",
       "      <td>NaN</td>\n",
       "      <td>United States</td>\n",
       "      <td>September 8, 2017</td>\n",
       "      <td>2017</td>\n",
       "      <td>TV-MA</td>\n",
       "      <td>1 Season</td>\n",
       "      <td>Docuseries, Science &amp; Nature TV</td>\n",
       "      <td>As California's 2016 fire season rages, brave ...</td>\n",
       "    </tr>\n",
       "    <tr>\n",
       "      <th>9</th>\n",
       "      <td>70304990</td>\n",
       "      <td>Movie</td>\n",
       "      <td>Good People</td>\n",
       "      <td>Henrik Ruben Genz</td>\n",
       "      <td>James Franco, Kate Hudson, Tom Wilkinson, Omar...</td>\n",
       "      <td>United States, United Kingdom, Denmark, Sweden</td>\n",
       "      <td>September 8, 2017</td>\n",
       "      <td>2014</td>\n",
       "      <td>R</td>\n",
       "      <td>90 min</td>\n",
       "      <td>Action &amp; Adventure, Thrillers</td>\n",
       "      <td>A struggling couple can't believe their luck w...</td>\n",
       "    </tr>\n",
       "    <tr>\n",
       "      <th>10</th>\n",
       "      <td>80169755</td>\n",
       "      <td>Movie</td>\n",
       "      <td>Joaquín Reyes: Una y no más</td>\n",
       "      <td>José Miguel Contreras</td>\n",
       "      <td>Joaquín Reyes</td>\n",
       "      <td>NaN</td>\n",
       "      <td>September 8, 2017</td>\n",
       "      <td>2017</td>\n",
       "      <td>TV-MA</td>\n",
       "      <td>78 min</td>\n",
       "      <td>Stand-Up Comedy</td>\n",
       "      <td>Comedian and celebrity impersonator Joaquín Re...</td>\n",
       "    </tr>\n",
       "    <tr>\n",
       "      <th>11</th>\n",
       "      <td>70299204</td>\n",
       "      <td>Movie</td>\n",
       "      <td>Kidnapping Mr. Heineken</td>\n",
       "      <td>Daniel Alfredson</td>\n",
       "      <td>Jim Sturgess, Sam Worthington, Ryan Kwanten, A...</td>\n",
       "      <td>Netherlands, Belgium, United Kingdom, United S...</td>\n",
       "      <td>September 8, 2017</td>\n",
       "      <td>2015</td>\n",
       "      <td>R</td>\n",
       "      <td>95 min</td>\n",
       "      <td>Action &amp; Adventure, Dramas, International Movies</td>\n",
       "      <td>When beer magnate Alfred \"Freddy\" Heineken is ...</td>\n",
       "    </tr>\n",
       "    <tr>\n",
       "      <th>12</th>\n",
       "      <td>80182480</td>\n",
       "      <td>Movie</td>\n",
       "      <td>Krish Trish and Baltiboy</td>\n",
       "      <td>NaN</td>\n",
       "      <td>Damandeep Singh Baggan, Smita Malhotra, Baba S...</td>\n",
       "      <td>NaN</td>\n",
       "      <td>September 8, 2017</td>\n",
       "      <td>2009</td>\n",
       "      <td>TV-Y7</td>\n",
       "      <td>58 min</td>\n",
       "      <td>Children &amp; Family Movies</td>\n",
       "      <td>A team of minstrels, including a monkey, cat a...</td>\n",
       "    </tr>\n",
       "    <tr>\n",
       "      <th>13</th>\n",
       "      <td>80182483</td>\n",
       "      <td>Movie</td>\n",
       "      <td>Krish Trish and Baltiboy: Battle of Wits</td>\n",
       "      <td>Munjal Shroff, Tilak Shetty</td>\n",
       "      <td>Damandeep Singh Baggan, Smita Malhotra, Baba S...</td>\n",
       "      <td>NaN</td>\n",
       "      <td>September 8, 2017</td>\n",
       "      <td>2013</td>\n",
       "      <td>TV-Y7</td>\n",
       "      <td>62 min</td>\n",
       "      <td>Children &amp; Family Movies</td>\n",
       "      <td>An artisan is cheated of his payment, a lion o...</td>\n",
       "    </tr>\n",
       "    <tr>\n",
       "      <th>14</th>\n",
       "      <td>80182596</td>\n",
       "      <td>Movie</td>\n",
       "      <td>Krish Trish and Baltiboy: Best Friends Forever</td>\n",
       "      <td>Munjal Shroff, Tilak Shetty</td>\n",
       "      <td>Damandeep Singh Baggan, Smita Malhotra, Deepak...</td>\n",
       "      <td>NaN</td>\n",
       "      <td>September 8, 2017</td>\n",
       "      <td>2016</td>\n",
       "      <td>TV-Y</td>\n",
       "      <td>65 min</td>\n",
       "      <td>Children &amp; Family Movies</td>\n",
       "      <td>A cat, monkey and donkey team up to narrate fo...</td>\n",
       "    </tr>\n",
       "    <tr>\n",
       "      <th>15</th>\n",
       "      <td>80182482</td>\n",
       "      <td>Movie</td>\n",
       "      <td>Krish Trish and Baltiboy: Comics of India</td>\n",
       "      <td>Tilak Shetty</td>\n",
       "      <td>Damandeep Singh Baggan, Smita Malhotra, Baba S...</td>\n",
       "      <td>NaN</td>\n",
       "      <td>September 8, 2017</td>\n",
       "      <td>2012</td>\n",
       "      <td>TV-Y7</td>\n",
       "      <td>61 min</td>\n",
       "      <td>Children &amp; Family Movies</td>\n",
       "      <td>In three comic-strip-style tales, a boy tries ...</td>\n",
       "    </tr>\n",
       "    <tr>\n",
       "      <th>16</th>\n",
       "      <td>80182597</td>\n",
       "      <td>Movie</td>\n",
       "      <td>Krish Trish and Baltiboy: Oversmartness Never ...</td>\n",
       "      <td>Tilak Shetty</td>\n",
       "      <td>Rishi Gambhir, Smita Malhotra, Deepak Chachra</td>\n",
       "      <td>NaN</td>\n",
       "      <td>September 8, 2017</td>\n",
       "      <td>2017</td>\n",
       "      <td>TV-Y7</td>\n",
       "      <td>65 min</td>\n",
       "      <td>Children &amp; Family Movies</td>\n",
       "      <td>A cat, monkey and donkey learn the consequence...</td>\n",
       "    </tr>\n",
       "    <tr>\n",
       "      <th>17</th>\n",
       "      <td>80182481</td>\n",
       "      <td>Movie</td>\n",
       "      <td>Krish Trish and Baltiboy: Part II</td>\n",
       "      <td>NaN</td>\n",
       "      <td>Damandeep Singh Baggan, Smita Malhotra, Baba S...</td>\n",
       "      <td>NaN</td>\n",
       "      <td>September 8, 2017</td>\n",
       "      <td>2010</td>\n",
       "      <td>TV-Y7</td>\n",
       "      <td>58 min</td>\n",
       "      <td>Children &amp; Family Movies</td>\n",
       "      <td>Animal minstrels narrate stories about a monke...</td>\n",
       "    </tr>\n",
       "    <tr>\n",
       "      <th>18</th>\n",
       "      <td>80182621</td>\n",
       "      <td>Movie</td>\n",
       "      <td>Krish Trish and Baltiboy: The Greatest Trick</td>\n",
       "      <td>Munjal Shroff, Tilak Shetty</td>\n",
       "      <td>Damandeep Singh Baggan, Smita Malhotra, Baba S...</td>\n",
       "      <td>NaN</td>\n",
       "      <td>September 8, 2017</td>\n",
       "      <td>2013</td>\n",
       "      <td>TV-Y7</td>\n",
       "      <td>60 min</td>\n",
       "      <td>Children &amp; Family Movies</td>\n",
       "      <td>The consequences of trickery are explored in s...</td>\n",
       "    </tr>\n",
       "    <tr>\n",
       "      <th>19</th>\n",
       "      <td>80057969</td>\n",
       "      <td>Movie</td>\n",
       "      <td>Love</td>\n",
       "      <td>Gaspar Noé</td>\n",
       "      <td>Karl Glusman, Klara Kristin, Aomi Muyock, Ugo ...</td>\n",
       "      <td>France, Belgium</td>\n",
       "      <td>September 8, 2017</td>\n",
       "      <td>2015</td>\n",
       "      <td>NR</td>\n",
       "      <td>135 min</td>\n",
       "      <td>Cult Movies, Dramas, Independent Movies</td>\n",
       "      <td>A man in an unsatisfying marriage recalls the ...</td>\n",
       "    </tr>\n",
       "    <tr>\n",
       "      <th>20</th>\n",
       "      <td>80060297</td>\n",
       "      <td>Movie</td>\n",
       "      <td>Manhattan Romance</td>\n",
       "      <td>Tom O'Brien</td>\n",
       "      <td>Tom O'Brien, Katherine Waterston, Caitlin Fitz...</td>\n",
       "      <td>United States</td>\n",
       "      <td>September 8, 2017</td>\n",
       "      <td>2014</td>\n",
       "      <td>TV-14</td>\n",
       "      <td>98 min</td>\n",
       "      <td>Comedies, Independent Movies, Romantic Movies</td>\n",
       "      <td>A filmmaker working on a documentary about lov...</td>\n",
       "    </tr>\n",
       "    <tr>\n",
       "      <th>21</th>\n",
       "      <td>80046728</td>\n",
       "      <td>Movie</td>\n",
       "      <td>Moonwalkers</td>\n",
       "      <td>Antoine Bardou-Jacquet</td>\n",
       "      <td>Ron Perlman, Rupert Grint, Robert Sheehan, Ste...</td>\n",
       "      <td>France, Belgium</td>\n",
       "      <td>September 8, 2017</td>\n",
       "      <td>2015</td>\n",
       "      <td>R</td>\n",
       "      <td>96 min</td>\n",
       "      <td>Action &amp; Adventure, Comedies, International Mo...</td>\n",
       "      <td>A brain-addled war vet, a failing band manager...</td>\n",
       "    </tr>\n",
       "    <tr>\n",
       "      <th>22</th>\n",
       "      <td>80046727</td>\n",
       "      <td>Movie</td>\n",
       "      <td>Rolling Papers</td>\n",
       "      <td>Mitch Dickman</td>\n",
       "      <td>NaN</td>\n",
       "      <td>United States, Uruguay</td>\n",
       "      <td>September 8, 2017</td>\n",
       "      <td>2015</td>\n",
       "      <td>TV-MA</td>\n",
       "      <td>79 min</td>\n",
       "      <td>Documentaries</td>\n",
       "      <td>As the newspaper industry takes a hit, The Den...</td>\n",
       "    </tr>\n",
       "    <tr>\n",
       "      <th>23</th>\n",
       "      <td>70304988</td>\n",
       "      <td>Movie</td>\n",
       "      <td>Stonehearst Asylum</td>\n",
       "      <td>Brad Anderson</td>\n",
       "      <td>Kate Beckinsale, Jim Sturgess, David Thewlis, ...</td>\n",
       "      <td>United States</td>\n",
       "      <td>September 8, 2017</td>\n",
       "      <td>2014</td>\n",
       "      <td>PG-13</td>\n",
       "      <td>113 min</td>\n",
       "      <td>Horror Movies, Thrillers</td>\n",
       "      <td>In 1899, a young doctor arrives at an asylum f...</td>\n",
       "    </tr>\n",
       "    <tr>\n",
       "      <th>24</th>\n",
       "      <td>80057700</td>\n",
       "      <td>Movie</td>\n",
       "      <td>The Runner</td>\n",
       "      <td>Austin Stark</td>\n",
       "      <td>Nicolas Cage, Sarah Paulson, Connie Nielsen, W...</td>\n",
       "      <td>United States</td>\n",
       "      <td>September 8, 2017</td>\n",
       "      <td>2015</td>\n",
       "      <td>R</td>\n",
       "      <td>90 min</td>\n",
       "      <td>Dramas, Independent Movies</td>\n",
       "      <td>A New Orleans politician finds his idealistic ...</td>\n",
       "    </tr>\n",
       "    <tr>\n",
       "      <th>25</th>\n",
       "      <td>80045922</td>\n",
       "      <td>Movie</td>\n",
       "      <td>6 Years</td>\n",
       "      <td>Hannah Fidell</td>\n",
       "      <td>Taissa Farmiga, Ben Rosenfield, Lindsay Burdge...</td>\n",
       "      <td>United States</td>\n",
       "      <td>September 8, 2015</td>\n",
       "      <td>2015</td>\n",
       "      <td>NR</td>\n",
       "      <td>80 min</td>\n",
       "      <td>Dramas, Independent Movies, Romantic Movies</td>\n",
       "      <td>As a volatile young couple who have been toget...</td>\n",
       "    </tr>\n",
       "    <tr>\n",
       "      <th>26</th>\n",
       "      <td>80244601</td>\n",
       "      <td>TV Show</td>\n",
       "      <td>Castle of Stars</td>\n",
       "      <td>NaN</td>\n",
       "      <td>Chaiyapol Pupart, Jintanutda Lummakanon, Worra...</td>\n",
       "      <td>NaN</td>\n",
       "      <td>September 7, 2018</td>\n",
       "      <td>2015</td>\n",
       "      <td>TV-14</td>\n",
       "      <td>1 Season</td>\n",
       "      <td>International TV Shows, Romantic TV Shows, TV ...</td>\n",
       "      <td>As four couples with different lifestyles go t...</td>\n",
       "    </tr>\n",
       "    <tr>\n",
       "      <th>27</th>\n",
       "      <td>80203094</td>\n",
       "      <td>Movie</td>\n",
       "      <td>City of Joy</td>\n",
       "      <td>Madeleine Gavin</td>\n",
       "      <td>NaN</td>\n",
       "      <td>United States,</td>\n",
       "      <td>September 7, 2018</td>\n",
       "      <td>2018</td>\n",
       "      <td>TV-MA</td>\n",
       "      <td>77 min</td>\n",
       "      <td>Documentaries</td>\n",
       "      <td>Women who've been sexually brutalized in war-t...</td>\n",
       "    </tr>\n",
       "    <tr>\n",
       "      <th>28</th>\n",
       "      <td>80190843</td>\n",
       "      <td>TV Show</td>\n",
       "      <td>First and Last</td>\n",
       "      <td>NaN</td>\n",
       "      <td>NaN</td>\n",
       "      <td>NaN</td>\n",
       "      <td>September 7, 2018</td>\n",
       "      <td>2018</td>\n",
       "      <td>TV-MA</td>\n",
       "      <td>1 Season</td>\n",
       "      <td>Docuseries</td>\n",
       "      <td>Take an intimate look at the emotionally charg...</td>\n",
       "    </tr>\n",
       "    <tr>\n",
       "      <th>29</th>\n",
       "      <td>70241607</td>\n",
       "      <td>Movie</td>\n",
       "      <td>Laddaland</td>\n",
       "      <td>Sopon Sukdapisit</td>\n",
       "      <td>Saharat Sangkapreecha, Pok Piyatida Woramusik,...</td>\n",
       "      <td>Thailand</td>\n",
       "      <td>September 7, 2018</td>\n",
       "      <td>2011</td>\n",
       "      <td>TV-MA</td>\n",
       "      <td>112 min</td>\n",
       "      <td>Horror Movies, International Movies</td>\n",
       "      <td>When a family moves into an upscale housing de...</td>\n",
       "    </tr>\n",
       "    <tr>\n",
       "      <th>...</th>\n",
       "      <td>...</td>\n",
       "      <td>...</td>\n",
       "      <td>...</td>\n",
       "      <td>...</td>\n",
       "      <td>...</td>\n",
       "      <td>...</td>\n",
       "      <td>...</td>\n",
       "      <td>...</td>\n",
       "      <td>...</td>\n",
       "      <td>...</td>\n",
       "      <td>...</td>\n",
       "      <td>...</td>\n",
       "    </tr>\n",
       "    <tr>\n",
       "      <th>6204</th>\n",
       "      <td>80091341</td>\n",
       "      <td>TV Show</td>\n",
       "      <td>Cuckoo</td>\n",
       "      <td>NaN</td>\n",
       "      <td>Andy Samberg, Taylor Lautner, Greg Davies, Hel...</td>\n",
       "      <td>United Kingdom</td>\n",
       "      <td>April 19, 2019</td>\n",
       "      <td>2019</td>\n",
       "      <td>TV-14</td>\n",
       "      <td>5 Seasons</td>\n",
       "      <td>British TV Shows, International TV Shows, TV C...</td>\n",
       "      <td>Rachel shocks her proper British parents when ...</td>\n",
       "    </tr>\n",
       "    <tr>\n",
       "      <th>6205</th>\n",
       "      <td>80036747</td>\n",
       "      <td>TV Show</td>\n",
       "      <td>Pororo - The Little Penguin</td>\n",
       "      <td>NaN</td>\n",
       "      <td>NaN</td>\n",
       "      <td>South Korea</td>\n",
       "      <td>April 19, 2019</td>\n",
       "      <td>2013</td>\n",
       "      <td>TV-Y</td>\n",
       "      <td>2 Seasons</td>\n",
       "      <td>Kids' TV, Korean TV Shows</td>\n",
       "      <td>On a tiny island, Pororo the penguin has fun a...</td>\n",
       "    </tr>\n",
       "    <tr>\n",
       "      <th>6206</th>\n",
       "      <td>80173174</td>\n",
       "      <td>TV Show</td>\n",
       "      <td>Samantha!</td>\n",
       "      <td>NaN</td>\n",
       "      <td>Emmanuelle Araújo, Douglas Silva, Sabrina Nona...</td>\n",
       "      <td>Brazil</td>\n",
       "      <td>April 19, 2019</td>\n",
       "      <td>2019</td>\n",
       "      <td>TV-MA</td>\n",
       "      <td>2 Seasons</td>\n",
       "      <td>International TV Shows, TV Comedies</td>\n",
       "      <td>A child star in the '80s, Samantha clings to t...</td>\n",
       "    </tr>\n",
       "    <tr>\n",
       "      <th>6207</th>\n",
       "      <td>80190407</td>\n",
       "      <td>TV Show</td>\n",
       "      <td>Murderous Affairs</td>\n",
       "      <td>NaN</td>\n",
       "      <td>NaN</td>\n",
       "      <td>United States</td>\n",
       "      <td>April 17, 2018</td>\n",
       "      <td>2017</td>\n",
       "      <td>TV-14</td>\n",
       "      <td>3 Seasons</td>\n",
       "      <td>Crime TV Shows, Docuseries</td>\n",
       "      <td>Mixing interviews with dramatic re-enactments,...</td>\n",
       "    </tr>\n",
       "    <tr>\n",
       "      <th>6208</th>\n",
       "      <td>70227189</td>\n",
       "      <td>TV Show</td>\n",
       "      <td>Lost Girl</td>\n",
       "      <td>NaN</td>\n",
       "      <td>Anna Silk, Kris Holden-Ried, Ksenia Solo, Rich...</td>\n",
       "      <td>Canada</td>\n",
       "      <td>April 17, 2016</td>\n",
       "      <td>2015</td>\n",
       "      <td>TV-14</td>\n",
       "      <td>5 Seasons</td>\n",
       "      <td>TV Dramas, TV Horror, TV Mysteries</td>\n",
       "      <td>Discovering she's a succubus who sustains hers...</td>\n",
       "    </tr>\n",
       "    <tr>\n",
       "      <th>6209</th>\n",
       "      <td>70264078</td>\n",
       "      <td>TV Show</td>\n",
       "      <td>Mr. Young</td>\n",
       "      <td>NaN</td>\n",
       "      <td>Brendan Meyer, Matreya Fedor, Gig Morton, Kurt...</td>\n",
       "      <td>Canada</td>\n",
       "      <td>April 16, 2019</td>\n",
       "      <td>2013</td>\n",
       "      <td>TV-G</td>\n",
       "      <td>2 Seasons</td>\n",
       "      <td>Kids' TV, TV Comedies</td>\n",
       "      <td>After Adam graduates from college at age 14, h...</td>\n",
       "    </tr>\n",
       "    <tr>\n",
       "      <th>6210</th>\n",
       "      <td>80239700</td>\n",
       "      <td>TV Show</td>\n",
       "      <td>Psiconautas</td>\n",
       "      <td>NaN</td>\n",
       "      <td>Guillermo Toledo, Gabriel Goity, Florencia Peñ...</td>\n",
       "      <td>Argentina</td>\n",
       "      <td>April 15, 2018</td>\n",
       "      <td>2016</td>\n",
       "      <td>TV-MA</td>\n",
       "      <td>2 Seasons</td>\n",
       "      <td>International TV Shows, Spanish-Language TV Sh...</td>\n",
       "      <td>A Spanish con man masquerades as a therapist a...</td>\n",
       "    </tr>\n",
       "    <tr>\n",
       "      <th>6211</th>\n",
       "      <td>80231523</td>\n",
       "      <td>TV Show</td>\n",
       "      <td>The Minimighty Kids</td>\n",
       "      <td>NaN</td>\n",
       "      <td>NaN</td>\n",
       "      <td>France</td>\n",
       "      <td>April 15, 2018</td>\n",
       "      <td>2012</td>\n",
       "      <td>TV-G</td>\n",
       "      <td>2 Seasons</td>\n",
       "      <td>Kids' TV, TV Comedies</td>\n",
       "      <td>Some have big feet or a sniffly nose, others a...</td>\n",
       "    </tr>\n",
       "    <tr>\n",
       "      <th>6212</th>\n",
       "      <td>80126877</td>\n",
       "      <td>TV Show</td>\n",
       "      <td>Filinta</td>\n",
       "      <td>NaN</td>\n",
       "      <td>Onur Tuna, Serhat Tutumluer, Mehmet Özgür, Naz...</td>\n",
       "      <td>Turkey</td>\n",
       "      <td>April 15, 2017</td>\n",
       "      <td>2015</td>\n",
       "      <td>TV-14</td>\n",
       "      <td>2 Seasons</td>\n",
       "      <td>Crime TV Shows, International TV Shows, TV Act...</td>\n",
       "      <td>In 19th-century Istanbul, a young police offic...</td>\n",
       "    </tr>\n",
       "    <tr>\n",
       "      <th>6213</th>\n",
       "      <td>80126599</td>\n",
       "      <td>TV Show</td>\n",
       "      <td>Leyla and Mecnun</td>\n",
       "      <td>Onur Ünlü</td>\n",
       "      <td>Ali Atay, Melis Birkan, Serkan Keskin, Ahmet M...</td>\n",
       "      <td>Turkey</td>\n",
       "      <td>April 15, 2017</td>\n",
       "      <td>2014</td>\n",
       "      <td>TV-PG</td>\n",
       "      <td>3 Seasons</td>\n",
       "      <td>International TV Shows, Romantic TV Shows, TV ...</td>\n",
       "      <td>Destiny brings Mecnun and Leyla together as ne...</td>\n",
       "    </tr>\n",
       "    <tr>\n",
       "      <th>6214</th>\n",
       "      <td>80049872</td>\n",
       "      <td>TV Show</td>\n",
       "      <td>Chelsea</td>\n",
       "      <td>NaN</td>\n",
       "      <td>NaN</td>\n",
       "      <td>United States</td>\n",
       "      <td>April 14, 2017</td>\n",
       "      <td>2017</td>\n",
       "      <td>TV-MA</td>\n",
       "      <td>2 Seasons</td>\n",
       "      <td>Stand-Up Comedy &amp; Talk Shows, TV Comedies</td>\n",
       "      <td>It's not her first talk show, but it is a firs...</td>\n",
       "    </tr>\n",
       "    <tr>\n",
       "      <th>6215</th>\n",
       "      <td>80066227</td>\n",
       "      <td>TV Show</td>\n",
       "      <td>Crazy Ex-Girlfriend</td>\n",
       "      <td>NaN</td>\n",
       "      <td>Rachel Bloom, Vincent Rodriguez III, Santino F...</td>\n",
       "      <td>United States</td>\n",
       "      <td>April 13, 2019</td>\n",
       "      <td>2019</td>\n",
       "      <td>TV-14</td>\n",
       "      <td>4 Seasons</td>\n",
       "      <td>Romantic TV Shows, TV Comedies</td>\n",
       "      <td>Still pining for Josh, the boy who dumped her ...</td>\n",
       "    </tr>\n",
       "    <tr>\n",
       "      <th>6216</th>\n",
       "      <td>80108373</td>\n",
       "      <td>TV Show</td>\n",
       "      <td>The Magic School Bus Rides Again</td>\n",
       "      <td>NaN</td>\n",
       "      <td>Kate McKinnon, Miles Koseleci-Vieira, Mikaela ...</td>\n",
       "      <td>United States</td>\n",
       "      <td>April 13, 2018</td>\n",
       "      <td>2018</td>\n",
       "      <td>TV-Y</td>\n",
       "      <td>2 Seasons</td>\n",
       "      <td>Kids' TV</td>\n",
       "      <td>Ms. Frizzle's kid sister Fiona takes the wheel...</td>\n",
       "    </tr>\n",
       "    <tr>\n",
       "      <th>6217</th>\n",
       "      <td>70196145</td>\n",
       "      <td>TV Show</td>\n",
       "      <td>New Girl</td>\n",
       "      <td>NaN</td>\n",
       "      <td>Zooey Deschanel, Jake Johnson, Max Greenfield,...</td>\n",
       "      <td>United States</td>\n",
       "      <td>April 11, 2019</td>\n",
       "      <td>2017</td>\n",
       "      <td>TV-14</td>\n",
       "      <td>7 Seasons</td>\n",
       "      <td>Romantic TV Shows, TV Comedies</td>\n",
       "      <td>Still rebounding from a breakup, Jessica Day m...</td>\n",
       "    </tr>\n",
       "    <tr>\n",
       "      <th>6218</th>\n",
       "      <td>80162994</td>\n",
       "      <td>TV Show</td>\n",
       "      <td>Talking Tom and Friends</td>\n",
       "      <td>NaN</td>\n",
       "      <td>Colin Hanks, Tom Kenny, James Adomian, Lisa Sc...</td>\n",
       "      <td>Cyprus, Austria, Thailand</td>\n",
       "      <td>April 10, 2019</td>\n",
       "      <td>2017</td>\n",
       "      <td>TV-G</td>\n",
       "      <td>2 Seasons</td>\n",
       "      <td>Kids' TV, TV Comedies</td>\n",
       "      <td>Full of funny one-liners and always ready for ...</td>\n",
       "    </tr>\n",
       "    <tr>\n",
       "      <th>6219</th>\n",
       "      <td>80186475</td>\n",
       "      <td>TV Show</td>\n",
       "      <td>Pokémon the Series</td>\n",
       "      <td>NaN</td>\n",
       "      <td>Sarah Natochenny, Laurie Hymes, Jessica Paquet...</td>\n",
       "      <td>Japan</td>\n",
       "      <td>April 1, 2019</td>\n",
       "      <td>2019</td>\n",
       "      <td>TV-Y7-FV</td>\n",
       "      <td>2 Seasons</td>\n",
       "      <td>Anime Series, Kids' TV</td>\n",
       "      <td>Ash and his Pikachu travel to the Alola region...</td>\n",
       "    </tr>\n",
       "    <tr>\n",
       "      <th>6220</th>\n",
       "      <td>70272742</td>\n",
       "      <td>TV Show</td>\n",
       "      <td>Justin Time</td>\n",
       "      <td>NaN</td>\n",
       "      <td>Gage Munroe, Scott McCord, Jenna Warren</td>\n",
       "      <td>Canada</td>\n",
       "      <td>April 1, 2016</td>\n",
       "      <td>2012</td>\n",
       "      <td>TV-Y</td>\n",
       "      <td>2 Seasons</td>\n",
       "      <td>Kids' TV</td>\n",
       "      <td>In Justin's dreams, he and his imaginary frien...</td>\n",
       "    </tr>\n",
       "    <tr>\n",
       "      <th>6221</th>\n",
       "      <td>80067942</td>\n",
       "      <td>TV Show</td>\n",
       "      <td>Terrace House: Boys &amp; Girls in the City</td>\n",
       "      <td>NaN</td>\n",
       "      <td>You, Reina Triendl, Ryota Yamasato, Yoshimi To...</td>\n",
       "      <td>Japan</td>\n",
       "      <td>April 1, 2016</td>\n",
       "      <td>2016</td>\n",
       "      <td>TV-14</td>\n",
       "      <td>2 Seasons</td>\n",
       "      <td>International TV Shows, Reality TV</td>\n",
       "      <td>A new set of six men and women start their liv...</td>\n",
       "    </tr>\n",
       "    <tr>\n",
       "      <th>6222</th>\n",
       "      <td>70136122</td>\n",
       "      <td>TV Show</td>\n",
       "      <td>Weeds</td>\n",
       "      <td>NaN</td>\n",
       "      <td>Mary-Louise Parker, Hunter Parrish, Alexander ...</td>\n",
       "      <td>United States</td>\n",
       "      <td>April 1, 2014</td>\n",
       "      <td>2012</td>\n",
       "      <td>TV-MA</td>\n",
       "      <td>8 Seasons</td>\n",
       "      <td>TV Comedies, TV Dramas</td>\n",
       "      <td>A suburban mother starts selling marijuana to ...</td>\n",
       "    </tr>\n",
       "    <tr>\n",
       "      <th>6223</th>\n",
       "      <td>70204989</td>\n",
       "      <td>TV Show</td>\n",
       "      <td>Gunslinger Girl</td>\n",
       "      <td>NaN</td>\n",
       "      <td>Yuuka Nanri, Kanako Mitsuhashi, Eri Sendai, Am...</td>\n",
       "      <td>Japan</td>\n",
       "      <td>NaN</td>\n",
       "      <td>2008</td>\n",
       "      <td>TV-14</td>\n",
       "      <td>2 Seasons</td>\n",
       "      <td>Anime Series, Crime TV Shows</td>\n",
       "      <td>On the surface, the Social Welfare Agency appe...</td>\n",
       "    </tr>\n",
       "    <tr>\n",
       "      <th>6224</th>\n",
       "      <td>70304979</td>\n",
       "      <td>TV Show</td>\n",
       "      <td>Anthony Bourdain: Parts Unknown</td>\n",
       "      <td>NaN</td>\n",
       "      <td>Anthony Bourdain</td>\n",
       "      <td>United States</td>\n",
       "      <td>NaN</td>\n",
       "      <td>2018</td>\n",
       "      <td>TV-PG</td>\n",
       "      <td>5 Seasons</td>\n",
       "      <td>Docuseries</td>\n",
       "      <td>This CNN original series has chef Anthony Bour...</td>\n",
       "    </tr>\n",
       "    <tr>\n",
       "      <th>6225</th>\n",
       "      <td>70153412</td>\n",
       "      <td>TV Show</td>\n",
       "      <td>Frasier</td>\n",
       "      <td>NaN</td>\n",
       "      <td>Kelsey Grammer, Jane Leeves, David Hyde Pierce...</td>\n",
       "      <td>United States</td>\n",
       "      <td>NaN</td>\n",
       "      <td>2003</td>\n",
       "      <td>TV-PG</td>\n",
       "      <td>11 Seasons</td>\n",
       "      <td>Classic &amp; Cult TV, TV Comedies</td>\n",
       "      <td>Frasier Crane is a snooty but lovable Seattle ...</td>\n",
       "    </tr>\n",
       "    <tr>\n",
       "      <th>6226</th>\n",
       "      <td>70243132</td>\n",
       "      <td>TV Show</td>\n",
       "      <td>La Familia P. Luche</td>\n",
       "      <td>NaN</td>\n",
       "      <td>Eugenio Derbez, Consuelo Duval, Luis Manuel Áv...</td>\n",
       "      <td>United States</td>\n",
       "      <td>NaN</td>\n",
       "      <td>2012</td>\n",
       "      <td>TV-14</td>\n",
       "      <td>3 Seasons</td>\n",
       "      <td>International TV Shows, Spanish-Language TV Sh...</td>\n",
       "      <td>This irreverent sitcom featues Ludovico, Feder...</td>\n",
       "    </tr>\n",
       "    <tr>\n",
       "      <th>6227</th>\n",
       "      <td>80005756</td>\n",
       "      <td>TV Show</td>\n",
       "      <td>The Adventures of Figaro Pho</td>\n",
       "      <td>NaN</td>\n",
       "      <td>Luke Jurevicius, Craig Behenna, Charlotte Haml...</td>\n",
       "      <td>Australia</td>\n",
       "      <td>NaN</td>\n",
       "      <td>2015</td>\n",
       "      <td>TV-Y7</td>\n",
       "      <td>2 Seasons</td>\n",
       "      <td>Kids' TV, TV Comedies</td>\n",
       "      <td>Imagine your worst fears, then multiply them: ...</td>\n",
       "    </tr>\n",
       "    <tr>\n",
       "      <th>6228</th>\n",
       "      <td>80159925</td>\n",
       "      <td>TV Show</td>\n",
       "      <td>Kikoriki</td>\n",
       "      <td>NaN</td>\n",
       "      <td>Igor Dmitriev</td>\n",
       "      <td>NaN</td>\n",
       "      <td>NaN</td>\n",
       "      <td>2010</td>\n",
       "      <td>TV-Y</td>\n",
       "      <td>2 Seasons</td>\n",
       "      <td>Kids' TV</td>\n",
       "      <td>A wacky rabbit and his gang of animal pals hav...</td>\n",
       "    </tr>\n",
       "    <tr>\n",
       "      <th>6229</th>\n",
       "      <td>80000063</td>\n",
       "      <td>TV Show</td>\n",
       "      <td>Red vs. Blue</td>\n",
       "      <td>NaN</td>\n",
       "      <td>Burnie Burns, Jason Saldaña, Gustavo Sorola, G...</td>\n",
       "      <td>United States</td>\n",
       "      <td>NaN</td>\n",
       "      <td>2015</td>\n",
       "      <td>NR</td>\n",
       "      <td>13 Seasons</td>\n",
       "      <td>TV Action &amp; Adventure, TV Comedies, TV Sci-Fi ...</td>\n",
       "      <td>This parody of first-person shooter games, mil...</td>\n",
       "    </tr>\n",
       "    <tr>\n",
       "      <th>6230</th>\n",
       "      <td>70286564</td>\n",
       "      <td>TV Show</td>\n",
       "      <td>Maron</td>\n",
       "      <td>NaN</td>\n",
       "      <td>Marc Maron, Judd Hirsch, Josh Brener, Nora Zeh...</td>\n",
       "      <td>United States</td>\n",
       "      <td>NaN</td>\n",
       "      <td>2016</td>\n",
       "      <td>TV-MA</td>\n",
       "      <td>4 Seasons</td>\n",
       "      <td>TV Comedies</td>\n",
       "      <td>Marc Maron stars as Marc Maron, who interviews...</td>\n",
       "    </tr>\n",
       "    <tr>\n",
       "      <th>6231</th>\n",
       "      <td>80116008</td>\n",
       "      <td>Movie</td>\n",
       "      <td>Little Baby Bum: Nursery Rhyme Friends</td>\n",
       "      <td>NaN</td>\n",
       "      <td>NaN</td>\n",
       "      <td>NaN</td>\n",
       "      <td>NaN</td>\n",
       "      <td>2016</td>\n",
       "      <td>NaN</td>\n",
       "      <td>60 min</td>\n",
       "      <td>Movies</td>\n",
       "      <td>Nursery rhymes and original music for children...</td>\n",
       "    </tr>\n",
       "    <tr>\n",
       "      <th>6232</th>\n",
       "      <td>70281022</td>\n",
       "      <td>TV Show</td>\n",
       "      <td>A Young Doctor's Notebook and Other Stories</td>\n",
       "      <td>NaN</td>\n",
       "      <td>Daniel Radcliffe, Jon Hamm, Adam Godley, Chris...</td>\n",
       "      <td>United Kingdom</td>\n",
       "      <td>NaN</td>\n",
       "      <td>2013</td>\n",
       "      <td>TV-MA</td>\n",
       "      <td>2 Seasons</td>\n",
       "      <td>British TV Shows, TV Comedies, TV Dramas</td>\n",
       "      <td>Set during the Russian Revolution, this comic ...</td>\n",
       "    </tr>\n",
       "    <tr>\n",
       "      <th>6233</th>\n",
       "      <td>70153404</td>\n",
       "      <td>TV Show</td>\n",
       "      <td>Friends</td>\n",
       "      <td>NaN</td>\n",
       "      <td>Jennifer Aniston, Courteney Cox, Lisa Kudrow, ...</td>\n",
       "      <td>United States</td>\n",
       "      <td>NaN</td>\n",
       "      <td>2003</td>\n",
       "      <td>TV-14</td>\n",
       "      <td>10 Seasons</td>\n",
       "      <td>Classic &amp; Cult TV, TV Comedies</td>\n",
       "      <td>This hit sitcom follows the merry misadventure...</td>\n",
       "    </tr>\n",
       "  </tbody>\n",
       "</table>\n",
       "<p>6234 rows × 12 columns</p>\n",
       "</div>"
      ],
      "text/plain": [
       "       show_id     type                                              title  \\\n",
       "0     81145628    Movie            Norm of the North: King Sized Adventure   \n",
       "1     80117401    Movie                         Jandino: Whatever it Takes   \n",
       "2     70234439  TV Show                                 Transformers Prime   \n",
       "3     80058654  TV Show                   Transformers: Robots in Disguise   \n",
       "4     80125979    Movie                                       #realityhigh   \n",
       "5     80163890  TV Show                                            Apaches   \n",
       "6     70304989    Movie                                           Automata   \n",
       "7     80164077    Movie                 Fabrizio Copano: Solo pienso en mi   \n",
       "8     80117902  TV Show                                       Fire Chasers   \n",
       "9     70304990    Movie                                        Good People   \n",
       "10    80169755    Movie                        Joaquín Reyes: Una y no más   \n",
       "11    70299204    Movie                            Kidnapping Mr. Heineken   \n",
       "12    80182480    Movie                           Krish Trish and Baltiboy   \n",
       "13    80182483    Movie           Krish Trish and Baltiboy: Battle of Wits   \n",
       "14    80182596    Movie     Krish Trish and Baltiboy: Best Friends Forever   \n",
       "15    80182482    Movie          Krish Trish and Baltiboy: Comics of India   \n",
       "16    80182597    Movie  Krish Trish and Baltiboy: Oversmartness Never ...   \n",
       "17    80182481    Movie                  Krish Trish and Baltiboy: Part II   \n",
       "18    80182621    Movie       Krish Trish and Baltiboy: The Greatest Trick   \n",
       "19    80057969    Movie                                               Love   \n",
       "20    80060297    Movie                                  Manhattan Romance   \n",
       "21    80046728    Movie                                        Moonwalkers   \n",
       "22    80046727    Movie                                     Rolling Papers   \n",
       "23    70304988    Movie                                 Stonehearst Asylum   \n",
       "24    80057700    Movie                                         The Runner   \n",
       "25    80045922    Movie                                            6 Years   \n",
       "26    80244601  TV Show                                    Castle of Stars   \n",
       "27    80203094    Movie                                        City of Joy   \n",
       "28    80190843  TV Show                                     First and Last   \n",
       "29    70241607    Movie                                          Laddaland   \n",
       "...        ...      ...                                                ...   \n",
       "6204  80091341  TV Show                                             Cuckoo   \n",
       "6205  80036747  TV Show                        Pororo - The Little Penguin   \n",
       "6206  80173174  TV Show                                          Samantha!   \n",
       "6207  80190407  TV Show                                  Murderous Affairs   \n",
       "6208  70227189  TV Show                                          Lost Girl   \n",
       "6209  70264078  TV Show                                          Mr. Young   \n",
       "6210  80239700  TV Show                                        Psiconautas   \n",
       "6211  80231523  TV Show                                The Minimighty Kids   \n",
       "6212  80126877  TV Show                                            Filinta   \n",
       "6213  80126599  TV Show                                   Leyla and Mecnun   \n",
       "6214  80049872  TV Show                                            Chelsea   \n",
       "6215  80066227  TV Show                                Crazy Ex-Girlfriend   \n",
       "6216  80108373  TV Show                   The Magic School Bus Rides Again   \n",
       "6217  70196145  TV Show                                           New Girl   \n",
       "6218  80162994  TV Show                            Talking Tom and Friends   \n",
       "6219  80186475  TV Show                                 Pokémon the Series   \n",
       "6220  70272742  TV Show                                        Justin Time   \n",
       "6221  80067942  TV Show            Terrace House: Boys & Girls in the City   \n",
       "6222  70136122  TV Show                                              Weeds   \n",
       "6223  70204989  TV Show                                    Gunslinger Girl   \n",
       "6224  70304979  TV Show                    Anthony Bourdain: Parts Unknown   \n",
       "6225  70153412  TV Show                                            Frasier   \n",
       "6226  70243132  TV Show                                La Familia P. Luche   \n",
       "6227  80005756  TV Show                       The Adventures of Figaro Pho   \n",
       "6228  80159925  TV Show                                           Kikoriki   \n",
       "6229  80000063  TV Show                                       Red vs. Blue   \n",
       "6230  70286564  TV Show                                              Maron   \n",
       "6231  80116008    Movie             Little Baby Bum: Nursery Rhyme Friends   \n",
       "6232  70281022  TV Show        A Young Doctor's Notebook and Other Stories   \n",
       "6233  70153404  TV Show                                            Friends   \n",
       "\n",
       "                             director  \\\n",
       "0            Richard Finn, Tim Maltby   \n",
       "1                                 NaN   \n",
       "2                                 NaN   \n",
       "3                                 NaN   \n",
       "4                    Fernando Lebrija   \n",
       "5                                 NaN   \n",
       "6                         Gabe Ibáñez   \n",
       "7     Rodrigo Toro, Francisco Schultz   \n",
       "8                                 NaN   \n",
       "9                   Henrik Ruben Genz   \n",
       "10              José Miguel Contreras   \n",
       "11                   Daniel Alfredson   \n",
       "12                                NaN   \n",
       "13        Munjal Shroff, Tilak Shetty   \n",
       "14        Munjal Shroff, Tilak Shetty   \n",
       "15                       Tilak Shetty   \n",
       "16                       Tilak Shetty   \n",
       "17                                NaN   \n",
       "18        Munjal Shroff, Tilak Shetty   \n",
       "19                         Gaspar Noé   \n",
       "20                        Tom O'Brien   \n",
       "21             Antoine Bardou-Jacquet   \n",
       "22                      Mitch Dickman   \n",
       "23                      Brad Anderson   \n",
       "24                       Austin Stark   \n",
       "25                      Hannah Fidell   \n",
       "26                                NaN   \n",
       "27                    Madeleine Gavin   \n",
       "28                                NaN   \n",
       "29                   Sopon Sukdapisit   \n",
       "...                               ...   \n",
       "6204                              NaN   \n",
       "6205                              NaN   \n",
       "6206                              NaN   \n",
       "6207                              NaN   \n",
       "6208                              NaN   \n",
       "6209                              NaN   \n",
       "6210                              NaN   \n",
       "6211                              NaN   \n",
       "6212                              NaN   \n",
       "6213                        Onur Ünlü   \n",
       "6214                              NaN   \n",
       "6215                              NaN   \n",
       "6216                              NaN   \n",
       "6217                              NaN   \n",
       "6218                              NaN   \n",
       "6219                              NaN   \n",
       "6220                              NaN   \n",
       "6221                              NaN   \n",
       "6222                              NaN   \n",
       "6223                              NaN   \n",
       "6224                              NaN   \n",
       "6225                              NaN   \n",
       "6226                              NaN   \n",
       "6227                              NaN   \n",
       "6228                              NaN   \n",
       "6229                              NaN   \n",
       "6230                              NaN   \n",
       "6231                              NaN   \n",
       "6232                              NaN   \n",
       "6233                              NaN   \n",
       "\n",
       "                                                   cast  \\\n",
       "0     Alan Marriott, Andrew Toth, Brian Dobson, Cole...   \n",
       "1                                      Jandino Asporaat   \n",
       "2     Peter Cullen, Sumalee Montano, Frank Welker, J...   \n",
       "3     Will Friedle, Darren Criss, Constance Zimmer, ...   \n",
       "4     Nesta Cooper, Kate Walsh, John Michael Higgins...   \n",
       "5     Alberto Ammann, Eloy Azorín, Verónica Echegui,...   \n",
       "6     Antonio Banderas, Dylan McDermott, Melanie Gri...   \n",
       "7                                       Fabrizio Copano   \n",
       "8                                                   NaN   \n",
       "9     James Franco, Kate Hudson, Tom Wilkinson, Omar...   \n",
       "10                                        Joaquín Reyes   \n",
       "11    Jim Sturgess, Sam Worthington, Ryan Kwanten, A...   \n",
       "12    Damandeep Singh Baggan, Smita Malhotra, Baba S...   \n",
       "13    Damandeep Singh Baggan, Smita Malhotra, Baba S...   \n",
       "14    Damandeep Singh Baggan, Smita Malhotra, Deepak...   \n",
       "15    Damandeep Singh Baggan, Smita Malhotra, Baba S...   \n",
       "16        Rishi Gambhir, Smita Malhotra, Deepak Chachra   \n",
       "17    Damandeep Singh Baggan, Smita Malhotra, Baba S...   \n",
       "18    Damandeep Singh Baggan, Smita Malhotra, Baba S...   \n",
       "19    Karl Glusman, Klara Kristin, Aomi Muyock, Ugo ...   \n",
       "20    Tom O'Brien, Katherine Waterston, Caitlin Fitz...   \n",
       "21    Ron Perlman, Rupert Grint, Robert Sheehan, Ste...   \n",
       "22                                                  NaN   \n",
       "23    Kate Beckinsale, Jim Sturgess, David Thewlis, ...   \n",
       "24    Nicolas Cage, Sarah Paulson, Connie Nielsen, W...   \n",
       "25    Taissa Farmiga, Ben Rosenfield, Lindsay Burdge...   \n",
       "26    Chaiyapol Pupart, Jintanutda Lummakanon, Worra...   \n",
       "27                                                  NaN   \n",
       "28                                                  NaN   \n",
       "29    Saharat Sangkapreecha, Pok Piyatida Woramusik,...   \n",
       "...                                                 ...   \n",
       "6204  Andy Samberg, Taylor Lautner, Greg Davies, Hel...   \n",
       "6205                                                NaN   \n",
       "6206  Emmanuelle Araújo, Douglas Silva, Sabrina Nona...   \n",
       "6207                                                NaN   \n",
       "6208  Anna Silk, Kris Holden-Ried, Ksenia Solo, Rich...   \n",
       "6209  Brendan Meyer, Matreya Fedor, Gig Morton, Kurt...   \n",
       "6210  Guillermo Toledo, Gabriel Goity, Florencia Peñ...   \n",
       "6211                                                NaN   \n",
       "6212  Onur Tuna, Serhat Tutumluer, Mehmet Özgür, Naz...   \n",
       "6213  Ali Atay, Melis Birkan, Serkan Keskin, Ahmet M...   \n",
       "6214                                                NaN   \n",
       "6215  Rachel Bloom, Vincent Rodriguez III, Santino F...   \n",
       "6216  Kate McKinnon, Miles Koseleci-Vieira, Mikaela ...   \n",
       "6217  Zooey Deschanel, Jake Johnson, Max Greenfield,...   \n",
       "6218  Colin Hanks, Tom Kenny, James Adomian, Lisa Sc...   \n",
       "6219  Sarah Natochenny, Laurie Hymes, Jessica Paquet...   \n",
       "6220            Gage Munroe, Scott McCord, Jenna Warren   \n",
       "6221  You, Reina Triendl, Ryota Yamasato, Yoshimi To...   \n",
       "6222  Mary-Louise Parker, Hunter Parrish, Alexander ...   \n",
       "6223  Yuuka Nanri, Kanako Mitsuhashi, Eri Sendai, Am...   \n",
       "6224                                   Anthony Bourdain   \n",
       "6225  Kelsey Grammer, Jane Leeves, David Hyde Pierce...   \n",
       "6226  Eugenio Derbez, Consuelo Duval, Luis Manuel Áv...   \n",
       "6227  Luke Jurevicius, Craig Behenna, Charlotte Haml...   \n",
       "6228                                      Igor Dmitriev   \n",
       "6229  Burnie Burns, Jason Saldaña, Gustavo Sorola, G...   \n",
       "6230  Marc Maron, Judd Hirsch, Josh Brener, Nora Zeh...   \n",
       "6231                                                NaN   \n",
       "6232  Daniel Radcliffe, Jon Hamm, Adam Godley, Chris...   \n",
       "6233  Jennifer Aniston, Courteney Cox, Lisa Kudrow, ...   \n",
       "\n",
       "                                                country         date_added  \\\n",
       "0              United States, India, South Korea, China  September 9, 2019   \n",
       "1                                        United Kingdom  September 9, 2016   \n",
       "2                                         United States  September 8, 2018   \n",
       "3                                         United States  September 8, 2018   \n",
       "4                                         United States  September 8, 2017   \n",
       "5                                                 Spain  September 8, 2017   \n",
       "6                Bulgaria, United States, Spain, Canada  September 8, 2017   \n",
       "7                                                 Chile  September 8, 2017   \n",
       "8                                         United States  September 8, 2017   \n",
       "9        United States, United Kingdom, Denmark, Sweden  September 8, 2017   \n",
       "10                                                  NaN  September 8, 2017   \n",
       "11    Netherlands, Belgium, United Kingdom, United S...  September 8, 2017   \n",
       "12                                                  NaN  September 8, 2017   \n",
       "13                                                  NaN  September 8, 2017   \n",
       "14                                                  NaN  September 8, 2017   \n",
       "15                                                  NaN  September 8, 2017   \n",
       "16                                                  NaN  September 8, 2017   \n",
       "17                                                  NaN  September 8, 2017   \n",
       "18                                                  NaN  September 8, 2017   \n",
       "19                                      France, Belgium  September 8, 2017   \n",
       "20                                        United States  September 8, 2017   \n",
       "21                                      France, Belgium  September 8, 2017   \n",
       "22                               United States, Uruguay  September 8, 2017   \n",
       "23                                        United States  September 8, 2017   \n",
       "24                                        United States  September 8, 2017   \n",
       "25                                        United States  September 8, 2015   \n",
       "26                                                  NaN  September 7, 2018   \n",
       "27                                       United States,  September 7, 2018   \n",
       "28                                                  NaN  September 7, 2018   \n",
       "29                                             Thailand  September 7, 2018   \n",
       "...                                                 ...                ...   \n",
       "6204                                     United Kingdom     April 19, 2019   \n",
       "6205                                        South Korea     April 19, 2019   \n",
       "6206                                             Brazil     April 19, 2019   \n",
       "6207                                      United States     April 17, 2018   \n",
       "6208                                             Canada     April 17, 2016   \n",
       "6209                                             Canada     April 16, 2019   \n",
       "6210                                          Argentina     April 15, 2018   \n",
       "6211                                             France     April 15, 2018   \n",
       "6212                                             Turkey     April 15, 2017   \n",
       "6213                                             Turkey     April 15, 2017   \n",
       "6214                                      United States     April 14, 2017   \n",
       "6215                                      United States     April 13, 2019   \n",
       "6216                                      United States     April 13, 2018   \n",
       "6217                                      United States     April 11, 2019   \n",
       "6218                          Cyprus, Austria, Thailand     April 10, 2019   \n",
       "6219                                              Japan      April 1, 2019   \n",
       "6220                                             Canada      April 1, 2016   \n",
       "6221                                              Japan      April 1, 2016   \n",
       "6222                                      United States      April 1, 2014   \n",
       "6223                                              Japan                NaN   \n",
       "6224                                      United States                NaN   \n",
       "6225                                      United States                NaN   \n",
       "6226                                      United States                NaN   \n",
       "6227                                          Australia                NaN   \n",
       "6228                                                NaN                NaN   \n",
       "6229                                      United States                NaN   \n",
       "6230                                      United States                NaN   \n",
       "6231                                                NaN                NaN   \n",
       "6232                                     United Kingdom                NaN   \n",
       "6233                                      United States                NaN   \n",
       "\n",
       "      release_year    rating    duration  \\\n",
       "0             2019     TV-PG      90 min   \n",
       "1             2016     TV-MA      94 min   \n",
       "2             2013  TV-Y7-FV    1 Season   \n",
       "3             2016     TV-Y7    1 Season   \n",
       "4             2017     TV-14      99 min   \n",
       "5             2016     TV-MA    1 Season   \n",
       "6             2014         R     110 min   \n",
       "7             2017     TV-MA      60 min   \n",
       "8             2017     TV-MA    1 Season   \n",
       "9             2014         R      90 min   \n",
       "10            2017     TV-MA      78 min   \n",
       "11            2015         R      95 min   \n",
       "12            2009     TV-Y7      58 min   \n",
       "13            2013     TV-Y7      62 min   \n",
       "14            2016      TV-Y      65 min   \n",
       "15            2012     TV-Y7      61 min   \n",
       "16            2017     TV-Y7      65 min   \n",
       "17            2010     TV-Y7      58 min   \n",
       "18            2013     TV-Y7      60 min   \n",
       "19            2015        NR     135 min   \n",
       "20            2014     TV-14      98 min   \n",
       "21            2015         R      96 min   \n",
       "22            2015     TV-MA      79 min   \n",
       "23            2014     PG-13     113 min   \n",
       "24            2015         R      90 min   \n",
       "25            2015        NR      80 min   \n",
       "26            2015     TV-14    1 Season   \n",
       "27            2018     TV-MA      77 min   \n",
       "28            2018     TV-MA    1 Season   \n",
       "29            2011     TV-MA     112 min   \n",
       "...            ...       ...         ...   \n",
       "6204          2019     TV-14   5 Seasons   \n",
       "6205          2013      TV-Y   2 Seasons   \n",
       "6206          2019     TV-MA   2 Seasons   \n",
       "6207          2017     TV-14   3 Seasons   \n",
       "6208          2015     TV-14   5 Seasons   \n",
       "6209          2013      TV-G   2 Seasons   \n",
       "6210          2016     TV-MA   2 Seasons   \n",
       "6211          2012      TV-G   2 Seasons   \n",
       "6212          2015     TV-14   2 Seasons   \n",
       "6213          2014     TV-PG   3 Seasons   \n",
       "6214          2017     TV-MA   2 Seasons   \n",
       "6215          2019     TV-14   4 Seasons   \n",
       "6216          2018      TV-Y   2 Seasons   \n",
       "6217          2017     TV-14   7 Seasons   \n",
       "6218          2017      TV-G   2 Seasons   \n",
       "6219          2019  TV-Y7-FV   2 Seasons   \n",
       "6220          2012      TV-Y   2 Seasons   \n",
       "6221          2016     TV-14   2 Seasons   \n",
       "6222          2012     TV-MA   8 Seasons   \n",
       "6223          2008     TV-14   2 Seasons   \n",
       "6224          2018     TV-PG   5 Seasons   \n",
       "6225          2003     TV-PG  11 Seasons   \n",
       "6226          2012     TV-14   3 Seasons   \n",
       "6227          2015     TV-Y7   2 Seasons   \n",
       "6228          2010      TV-Y   2 Seasons   \n",
       "6229          2015        NR  13 Seasons   \n",
       "6230          2016     TV-MA   4 Seasons   \n",
       "6231          2016       NaN      60 min   \n",
       "6232          2013     TV-MA   2 Seasons   \n",
       "6233          2003     TV-14  10 Seasons   \n",
       "\n",
       "                                              listed_in  \\\n",
       "0                    Children & Family Movies, Comedies   \n",
       "1                                       Stand-Up Comedy   \n",
       "2                                              Kids' TV   \n",
       "3                                              Kids' TV   \n",
       "4                                              Comedies   \n",
       "5     Crime TV Shows, International TV Shows, Spanis...   \n",
       "6     International Movies, Sci-Fi & Fantasy, Thrillers   \n",
       "7                                       Stand-Up Comedy   \n",
       "8                       Docuseries, Science & Nature TV   \n",
       "9                         Action & Adventure, Thrillers   \n",
       "10                                      Stand-Up Comedy   \n",
       "11     Action & Adventure, Dramas, International Movies   \n",
       "12                             Children & Family Movies   \n",
       "13                             Children & Family Movies   \n",
       "14                             Children & Family Movies   \n",
       "15                             Children & Family Movies   \n",
       "16                             Children & Family Movies   \n",
       "17                             Children & Family Movies   \n",
       "18                             Children & Family Movies   \n",
       "19              Cult Movies, Dramas, Independent Movies   \n",
       "20        Comedies, Independent Movies, Romantic Movies   \n",
       "21    Action & Adventure, Comedies, International Mo...   \n",
       "22                                        Documentaries   \n",
       "23                             Horror Movies, Thrillers   \n",
       "24                           Dramas, Independent Movies   \n",
       "25          Dramas, Independent Movies, Romantic Movies   \n",
       "26    International TV Shows, Romantic TV Shows, TV ...   \n",
       "27                                        Documentaries   \n",
       "28                                           Docuseries   \n",
       "29                  Horror Movies, International Movies   \n",
       "...                                                 ...   \n",
       "6204  British TV Shows, International TV Shows, TV C...   \n",
       "6205                          Kids' TV, Korean TV Shows   \n",
       "6206                International TV Shows, TV Comedies   \n",
       "6207                         Crime TV Shows, Docuseries   \n",
       "6208                 TV Dramas, TV Horror, TV Mysteries   \n",
       "6209                              Kids' TV, TV Comedies   \n",
       "6210  International TV Shows, Spanish-Language TV Sh...   \n",
       "6211                              Kids' TV, TV Comedies   \n",
       "6212  Crime TV Shows, International TV Shows, TV Act...   \n",
       "6213  International TV Shows, Romantic TV Shows, TV ...   \n",
       "6214          Stand-Up Comedy & Talk Shows, TV Comedies   \n",
       "6215                     Romantic TV Shows, TV Comedies   \n",
       "6216                                           Kids' TV   \n",
       "6217                     Romantic TV Shows, TV Comedies   \n",
       "6218                              Kids' TV, TV Comedies   \n",
       "6219                             Anime Series, Kids' TV   \n",
       "6220                                           Kids' TV   \n",
       "6221                 International TV Shows, Reality TV   \n",
       "6222                             TV Comedies, TV Dramas   \n",
       "6223                       Anime Series, Crime TV Shows   \n",
       "6224                                         Docuseries   \n",
       "6225                     Classic & Cult TV, TV Comedies   \n",
       "6226  International TV Shows, Spanish-Language TV Sh...   \n",
       "6227                              Kids' TV, TV Comedies   \n",
       "6228                                           Kids' TV   \n",
       "6229  TV Action & Adventure, TV Comedies, TV Sci-Fi ...   \n",
       "6230                                        TV Comedies   \n",
       "6231                                             Movies   \n",
       "6232           British TV Shows, TV Comedies, TV Dramas   \n",
       "6233                     Classic & Cult TV, TV Comedies   \n",
       "\n",
       "                                            description  \n",
       "0     Before planning an awesome wedding for his gra...  \n",
       "1     Jandino Asporaat riffs on the challenges of ra...  \n",
       "2     With the help of three human allies, the Autob...  \n",
       "3     When a prison ship crash unleashes hundreds of...  \n",
       "4     When nerdy high schooler Dani finally attracts...  \n",
       "5     A young journalist is forced into a life of cr...  \n",
       "6     In a dystopian future, an insurance adjuster f...  \n",
       "7     Fabrizio Copano takes audience participation t...  \n",
       "8     As California's 2016 fire season rages, brave ...  \n",
       "9     A struggling couple can't believe their luck w...  \n",
       "10    Comedian and celebrity impersonator Joaquín Re...  \n",
       "11    When beer magnate Alfred \"Freddy\" Heineken is ...  \n",
       "12    A team of minstrels, including a monkey, cat a...  \n",
       "13    An artisan is cheated of his payment, a lion o...  \n",
       "14    A cat, monkey and donkey team up to narrate fo...  \n",
       "15    In three comic-strip-style tales, a boy tries ...  \n",
       "16    A cat, monkey and donkey learn the consequence...  \n",
       "17    Animal minstrels narrate stories about a monke...  \n",
       "18    The consequences of trickery are explored in s...  \n",
       "19    A man in an unsatisfying marriage recalls the ...  \n",
       "20    A filmmaker working on a documentary about lov...  \n",
       "21    A brain-addled war vet, a failing band manager...  \n",
       "22    As the newspaper industry takes a hit, The Den...  \n",
       "23    In 1899, a young doctor arrives at an asylum f...  \n",
       "24    A New Orleans politician finds his idealistic ...  \n",
       "25    As a volatile young couple who have been toget...  \n",
       "26    As four couples with different lifestyles go t...  \n",
       "27    Women who've been sexually brutalized in war-t...  \n",
       "28    Take an intimate look at the emotionally charg...  \n",
       "29    When a family moves into an upscale housing de...  \n",
       "...                                                 ...  \n",
       "6204  Rachel shocks her proper British parents when ...  \n",
       "6205  On a tiny island, Pororo the penguin has fun a...  \n",
       "6206  A child star in the '80s, Samantha clings to t...  \n",
       "6207  Mixing interviews with dramatic re-enactments,...  \n",
       "6208  Discovering she's a succubus who sustains hers...  \n",
       "6209  After Adam graduates from college at age 14, h...  \n",
       "6210  A Spanish con man masquerades as a therapist a...  \n",
       "6211  Some have big feet or a sniffly nose, others a...  \n",
       "6212  In 19th-century Istanbul, a young police offic...  \n",
       "6213  Destiny brings Mecnun and Leyla together as ne...  \n",
       "6214  It's not her first talk show, but it is a firs...  \n",
       "6215  Still pining for Josh, the boy who dumped her ...  \n",
       "6216  Ms. Frizzle's kid sister Fiona takes the wheel...  \n",
       "6217  Still rebounding from a breakup, Jessica Day m...  \n",
       "6218  Full of funny one-liners and always ready for ...  \n",
       "6219  Ash and his Pikachu travel to the Alola region...  \n",
       "6220  In Justin's dreams, he and his imaginary frien...  \n",
       "6221  A new set of six men and women start their liv...  \n",
       "6222  A suburban mother starts selling marijuana to ...  \n",
       "6223  On the surface, the Social Welfare Agency appe...  \n",
       "6224  This CNN original series has chef Anthony Bour...  \n",
       "6225  Frasier Crane is a snooty but lovable Seattle ...  \n",
       "6226  This irreverent sitcom featues Ludovico, Feder...  \n",
       "6227  Imagine your worst fears, then multiply them: ...  \n",
       "6228  A wacky rabbit and his gang of animal pals hav...  \n",
       "6229  This parody of first-person shooter games, mil...  \n",
       "6230  Marc Maron stars as Marc Maron, who interviews...  \n",
       "6231  Nursery rhymes and original music for children...  \n",
       "6232  Set during the Russian Revolution, this comic ...  \n",
       "6233  This hit sitcom follows the merry misadventure...  \n",
       "\n",
       "[6234 rows x 12 columns]"
      ]
     },
     "execution_count": 3,
     "metadata": {},
     "output_type": "execute_result"
    }
   ],
   "source": [
    "df"
   ]
  },
  {
   "cell_type": "code",
   "execution_count": 4,
   "metadata": {
    "scrolled": true
   },
   "outputs": [
    {
     "data": {
      "text/plain": [
       "Index(['show_id', 'type', 'title', 'director', 'cast', 'country', 'date_added',\n",
       "       'release_year', 'rating', 'duration', 'listed_in', 'description'],\n",
       "      dtype='object')"
      ]
     },
     "execution_count": 4,
     "metadata": {},
     "output_type": "execute_result"
    }
   ],
   "source": [
    "df.columns"
   ]
  },
  {
   "cell_type": "code",
   "execution_count": 5,
   "metadata": {},
   "outputs": [
    {
     "name": "stdout",
     "output_type": "stream",
     "text": [
      "<class 'pandas.core.frame.DataFrame'>\n",
      "RangeIndex: 6234 entries, 0 to 6233\n",
      "Data columns (total 12 columns):\n",
      "show_id         6234 non-null int64\n",
      "type            6234 non-null object\n",
      "title           6234 non-null object\n",
      "director        4265 non-null object\n",
      "cast            5664 non-null object\n",
      "country         5758 non-null object\n",
      "date_added      6223 non-null object\n",
      "release_year    6234 non-null int64\n",
      "rating          6224 non-null object\n",
      "duration        6234 non-null object\n",
      "listed_in       6234 non-null object\n",
      "description     6234 non-null object\n",
      "dtypes: int64(2), object(10)\n",
      "memory usage: 584.5+ KB\n"
     ]
    }
   ],
   "source": [
    "df.info()"
   ]
  },
  {
   "cell_type": "code",
   "execution_count": 6,
   "metadata": {
    "scrolled": false
   },
   "outputs": [
    {
     "data": {
      "text/plain": [
       "Text(0.5, 1.0, 'ANO DE LANÇAMENTO COM O MAIOR NUMERO DE CONTEUDO DENTRO DA NETFLIX')"
      ]
     },
     "execution_count": 6,
     "metadata": {},
     "output_type": "execute_result"
    },
    {
     "data": {
      "image/png": "[encoded data removed]",
      "text/plain": [
       "<Figure size 432x288 with 1 Axes>"
      ]
     },
     "metadata": {
      "needs_background": "light"
     },
     "output_type": "display_data"
    }
   ],
   "source": [
    "df['release_year'].plot.hist(alpha=0.8, bins=40)\n",
    "plt.title('ANO DE LANÇAMENTO COM O MAIOR NUMERO DE CONTEUDO DENTRO DA NETFLIX')"
   ]
  },
  {
   "cell_type": "code",
   "execution_count": 7,
   "metadata": {},
   "outputs": [
    {
     "data": {
      "text/plain": [
       "2018    1063\n",
       "2017     959\n",
       "2019     843\n",
       "2016     830\n",
       "2015     517\n",
       "2014     288\n",
       "2013     237\n",
       "2012     183\n",
       "2010     149\n",
       "2011     136\n",
       "Name: release_year, dtype: int64"
      ]
     },
     "execution_count": 7,
     "metadata": {},
     "output_type": "execute_result"
    }
   ],
   "source": [
    "df['release_year'].value_counts().head(10)"
   ]
  },
  {
   "cell_type": "code",
   "execution_count": 8,
   "metadata": {},
   "outputs": [
    {
     "data": {
      "text/plain": [
       "Text(0.5, 1.0, 'TOP 10 ANOS COM O MAIOR NUMERO DE CONTEUDO DENTRO DA NETFLIX')"
      ]
     },
     "execution_count": 8,
     "metadata": {},
     "output_type": "execute_result"
    },
    {
     "data": {
      "image/png": "[encoded data removed]",
      "text/plain": [
       "<Figure size 864x432 with 1 Axes>"
      ]
     },
     "metadata": {
      "needs_background": "light"
     },
     "output_type": "display_data"
    }
   ],
   "source": [
    "df['release_year'].value_counts().head(10).plot.bar(figsize=(12,6))\n",
    "plt.title('TOP 10 ANOS COM O MAIOR NUMERO DE CONTEUDO DENTRO DA NETFLIX')"
   ]
  },
  {
   "cell_type": "code",
   "execution_count": 9,
   "metadata": {},
   "outputs": [
    {
     "data": {
      "image/png": "[encoded data removed]",
      "text/plain": [
       "<Figure size 432x288 with 1 Axes>"
      ]
     },
     "metadata": {
      "needs_background": "light"
     },
     "output_type": "display_data"
    }
   ],
   "source": [
    "df3 = df['date_added'].value_counts().head(10).plot(kind='barh', stacked=True, colormap='Paired')"
   ]
  },
  {
   "cell_type": "code",
   "execution_count": 10,
   "metadata": {},
   "outputs": [
    {
     "data": {
      "text/plain": [
       "[]"
      ]
     },
     "execution_count": 10,
     "metadata": {},
     "output_type": "execute_result"
    }
   ],
   "source": [
    "df3.plot(kind='bar', stacked=True, colormap='Paired')"
   ]
  },
  {
   "cell_type": "code",
   "execution_count": 11,
   "metadata": {},
   "outputs": [
    {
     "data": {
      "text/plain": [
       "Text(0.5, 1.0, 'Top 10 datas com maiores lançamentos de conteudo')"
      ]
     },
     "execution_count": 11,
     "metadata": {},
     "output_type": "execute_result"
    },
    {
     "data": {
      "image/png": "[encoded data removed]",
      "text/plain": [
       "<Figure size 864x432 with 1 Axes>"
      ]
     },
     "metadata": {
      "needs_background": "light"
     },
     "output_type": "display_data"
    }
   ],
   "source": [
    "df['date_added'].value_counts().head(10).plot.barh(figsize=(12,6))\n",
    "plt.title('Top 10 datas com maiores lançamentos de conteudo')"
   ]
  },
  {
   "cell_type": "code",
   "execution_count": 12,
   "metadata": {},
   "outputs": [
    {
     "data": {
      "text/plain": [
       "2017    682\n",
       "2018    646\n",
       "2016    593\n",
       "2019    400\n",
       "2015    363\n",
       "Name: release_year, dtype: int64"
      ]
     },
     "execution_count": 12,
     "metadata": {},
     "output_type": "execute_result"
    }
   ],
   "source": [
    "df[df['type']=='Movie']['release_year'].value_counts().head(5)\n",
    "# Top 5 anos com filmes catalogados\n",
    "# A maioria dos filmes dentro da Netflix são de 2017/2018"
   ]
  },
  {
   "cell_type": "code",
   "execution_count": 13,
   "metadata": {},
   "outputs": [
    {
     "data": {
      "text/plain": [
       "January 1, 2020      111\n",
       "November 1, 2019      84\n",
       "March 1, 2018         75\n",
       "December 31, 2019     69\n",
       "October 1, 2018       65\n",
       "Name: date_added, dtype: int64"
      ]
     },
     "execution_count": 13,
     "metadata": {},
     "output_type": "execute_result"
    }
   ],
   "source": [
    "df[df['type']=='Movie']['date_added'].value_counts().head(5)\n",
    "# A netflix vem investindo em aumentar seu catalogo, sendo seu maior investimento janeiro desse ano."
   ]
  },
  {
   "cell_type": "code",
   "execution_count": 14,
   "metadata": {},
   "outputs": [
    {
     "data": {
      "text/plain": [
       "<matplotlib.axes._subplots.AxesSubplot at 0x19a8ace1240>"
      ]
     },
     "execution_count": 14,
     "metadata": {},
     "output_type": "execute_result"
    },
    {
     "data": {
      "image/png": "[encoded data removed]",
      "text/plain": [
       "<Figure size 720x360 with 1 Axes>"
      ]
     },
     "metadata": {
      "needs_background": "light"
     },
     "output_type": "display_data"
    }
   ],
   "source": [
    "df[df['type']=='Movie']['date_added'].value_counts().head(5).plot.barh(figsize=(10,5))"
   ]
  },
  {
   "cell_type": "code",
   "execution_count": 15,
   "metadata": {},
   "outputs": [
    {
     "data": {
      "text/plain": [
       "2019    443\n",
       "2018    417\n",
       "2017    277\n",
       "2016    237\n",
       "2015    154\n",
       "Name: release_year, dtype: int64"
      ]
     },
     "execution_count": 15,
     "metadata": {},
     "output_type": "execute_result"
    }
   ],
   "source": [
    "df[df['type']=='TV Show']['release_year'].value_counts().head(5)\n",
    "# Series vem fazendo cada vez mais sucesso dentro da plataforma "
   ]
  },
  {
   "cell_type": "code",
   "execution_count": 16,
   "metadata": {},
   "outputs": [
    {
     "data": {
      "text/plain": [
       "January 1, 2016     21\n",
       "August 1, 2017      18\n",
       "February 1, 2019    17\n",
       "July 1, 2017        15\n",
       "July 12, 2019       14\n",
       "Name: date_added, dtype: int64"
      ]
     },
     "execution_count": 16,
     "metadata": {},
     "output_type": "execute_result"
    }
   ],
   "source": [
    "df[df['type']=='TV Show']['date_added'].value_counts().head(5)\n",
    "# Top 5 de lançamentos de seriados"
   ]
  },
  {
   "cell_type": "code",
   "execution_count": 17,
   "metadata": {
    "scrolled": true
   },
   "outputs": [
    {
     "data": {
      "text/plain": [
       "<matplotlib.axes._subplots.AxesSubplot at 0x19a8ad4e0b8>"
      ]
     },
     "execution_count": 17,
     "metadata": {},
     "output_type": "execute_result"
    },
    {
     "data": {
      "image/png": "[encoded data removed]",
      "text/plain": [
       "<Figure size 720x360 with 1 Axes>"
      ]
     },
     "metadata": {
      "needs_background": "light"
     },
     "output_type": "display_data"
    }
   ],
   "source": [
    "df[df['type']=='TV Show']['date_added'].value_counts().head(5).plot.barh(figsize=(10,5))"
   ]
  },
  {
   "cell_type": "code",
   "execution_count": 18,
   "metadata": {
    "scrolled": true
   },
   "outputs": [
    {
     "data": {
      "text/plain": [
       "<matplotlib.axes._subplots.AxesSubplot at 0x19a8ad3d390>"
      ]
     },
     "execution_count": 18,
     "metadata": {},
     "output_type": "execute_result"
    },
    {
     "data": {
      "image/png": "[encoded data removed]",
      "text/plain": [
       "<Figure size 432x288 with 1 Axes>"
      ]
     },
     "metadata": {
      "needs_background": "light"
     },
     "output_type": "display_data"
    }
   ],
   "source": [
    "sns.countplot(x='type',data=df)\n",
    "# Disparidade entre filmes e Series"
   ]
  },
  {
   "cell_type": "code",
   "execution_count": 19,
   "metadata": {},
   "outputs": [
    {
     "data": {
      "text/plain": [
       "4265"
      ]
     },
     "execution_count": 19,
     "metadata": {},
     "output_type": "execute_result"
    }
   ],
   "source": [
    "df[ df['type'] == 'Movie']['type'].count()"
   ]
  },
  {
   "cell_type": "code",
   "execution_count": 20,
   "metadata": {},
   "outputs": [
    {
     "data": {
      "text/plain": [
       "1969"
      ]
     },
     "execution_count": 20,
     "metadata": {},
     "output_type": "execute_result"
    }
   ],
   "source": [
    "df[ df['type'] == 'TV Show']['type'].count()"
   ]
  },
  {
   "cell_type": "code",
   "execution_count": 21,
   "metadata": {},
   "outputs": [
    {
     "data": {
      "text/plain": [
       "Edward Cotterill             4\n",
       "Werner Herzog                3\n",
       "Heidi Ewing, Rachel Grady    2\n",
       "Ben Wallis                   2\n",
       "Leslie Iwerks                2\n",
       "Name: director, dtype: int64"
      ]
     },
     "execution_count": 21,
     "metadata": {},
     "output_type": "execute_result"
    }
   ],
   "source": [
    "df[df['listed_in']=='Documentaries']['director'].value_counts().head(5)"
   ]
  },
  {
   "cell_type": "code",
   "execution_count": 22,
   "metadata": {
    "scrolled": true
   },
   "outputs": [
    {
     "data": {
      "text/plain": [
       "Raúl Campos, Jan Suter    18\n",
       "Marcus Raboy              14\n",
       "Jay Karas                 13\n",
       "Jay Chapman               12\n",
       "Steven Spielberg           9\n",
       "Name: director, dtype: int64"
      ]
     },
     "execution_count": 22,
     "metadata": {},
     "output_type": "execute_result"
    }
   ],
   "source": [
    "df['director'].value_counts().head(5) "
   ]
  },
  {
   "cell_type": "code",
   "execution_count": 23,
   "metadata": {},
   "outputs": [
    {
     "data": {
      "text/plain": [
       "David Attenborough    18\n",
       "Samuel West           10\n",
       "Jeff Dunham            7\n",
       "Craig Sechler          6\n",
       "Jim Gaffigan           5\n",
       "Name: cast, dtype: int64"
      ]
     },
     "execution_count": 23,
     "metadata": {},
     "output_type": "execute_result"
    }
   ],
   "source": [
    "df['cast'].value_counts().head(5) "
   ]
  },
  {
   "cell_type": "code",
   "execution_count": 24,
   "metadata": {},
   "outputs": [
    {
     "data": {
      "text/plain": [
       "Documentaries                                       299\n",
       "Stand-Up Comedy                                     273\n",
       "Dramas, International Movies                        248\n",
       "Dramas, Independent Movies, International Movies    186\n",
       "Comedies, Dramas, International Movies              174\n",
       "Kids' TV                                            159\n",
       "Documentaries, International Movies                 150\n",
       "Children & Family Movies, Comedies                  129\n",
       "Children & Family Movies                            120\n",
       "Comedies, International Movies                      120\n",
       "Name: listed_in, dtype: int64"
      ]
     },
     "execution_count": 24,
     "metadata": {},
     "output_type": "execute_result"
    }
   ],
   "source": [
    "df['listed_in'].value_counts().head(10)"
   ]
  },
  {
   "cell_type": "code",
   "execution_count": 25,
   "metadata": {},
   "outputs": [
    {
     "data": {
      "text/plain": [
       "<matplotlib.axes._subplots.AxesSubplot at 0x19a8af38f98>"
      ]
     },
     "execution_count": 25,
     "metadata": {},
     "output_type": "execute_result"
    },
    {
     "data": {
      "image/png": "[encoded data removed]",
      "text/plain": [
       "<Figure size 1080x720 with 1 Axes>"
      ]
     },
     "metadata": {
      "needs_background": "light"
     },
     "output_type": "display_data"
    }
   ],
   "source": [
    "df['listed_in'].value_counts().head(10).plot.barh(figsize=(15,10))"
   ]
  },
  {
   "cell_type": "code",
   "execution_count": 26,
   "metadata": {},
   "outputs": [
    {
     "data": {
      "text/plain": [
       "United States     2032\n",
       "India              777\n",
       "United Kingdom     348\n",
       "Japan              176\n",
       "Canada             141\n",
       "Name: country, dtype: int64"
      ]
     },
     "execution_count": 26,
     "metadata": {},
     "output_type": "execute_result"
    }
   ],
   "source": [
    "df['country'].value_counts().head(5)"
   ]
  },
  {
   "cell_type": "code",
   "execution_count": 27,
   "metadata": {
    "scrolled": true
   },
   "outputs": [
    {
     "data": {
      "text/plain": [
       "<matplotlib.axes._subplots.AxesSubplot at 0x19a8aff6780>"
      ]
     },
     "execution_count": 27,
     "metadata": {},
     "output_type": "execute_result"
    },
    {
     "data": {
      "image/png": "[encoded data removed]",
      "text/plain": [
       "<Figure size 720x360 with 1 Axes>"
      ]
     },
     "metadata": {
      "needs_background": "light"
     },
     "output_type": "display_data"
    }
   ],
   "source": [
    "df['country'].value_counts().head(17).plot.barh(figsize=(10,5))"
   ]
  },
  {
   "cell_type": "code",
   "execution_count": 28,
   "metadata": {
    "scrolled": false
   },
   "outputs": [
    {
     "data": {
      "text/plain": [
       "Ciarán Foy        2\n",
       "David R. Ellis    2\n",
       "Wes Craven        2\n",
       "James Wong        1\n",
       "Don Mancini       1\n",
       "Name: director, dtype: int64"
      ]
     },
     "execution_count": 28,
     "metadata": {},
     "output_type": "execute_result"
    }
   ],
   "source": [
    "df[df['listed_in']=='Horror Movies']['director'].value_counts().head(5)"
   ]
  },
  {
   "cell_type": "markdown",
   "metadata": {},
   "source": [
    "# Convertendo Calendario"
   ]
  },
  {
   "cell_type": "code",
   "execution_count": 29,
   "metadata": {},
   "outputs": [
    {
     "data": {
      "text/plain": [
       "pandas.core.series.Series"
      ]
     },
     "execution_count": 29,
     "metadata": {},
     "output_type": "execute_result"
    }
   ],
   "source": [
    "type(df['date_added'])"
   ]
  },
  {
   "cell_type": "code",
   "execution_count": 30,
   "metadata": {},
   "outputs": [],
   "source": [
    "df['date_added'] = pd.to_datetime(df['date_added'])"
   ]
  },
  {
   "cell_type": "code",
   "execution_count": 31,
   "metadata": {},
   "outputs": [
    {
     "data": {
      "text/plain": [
       "pandas._libs.tslibs.timestamps.Timestamp"
      ]
     },
     "execution_count": 31,
     "metadata": {},
     "output_type": "execute_result"
    }
   ],
   "source": [
    "type(df['date_added'].iloc[1])"
   ]
  },
  {
   "cell_type": "code",
   "execution_count": 32,
   "metadata": {},
   "outputs": [],
   "source": [
    "#df['hour'] = df['date_added'].apply(lambda time: time.hour)\n",
    "\n",
    "df['month'] = df['date_added'].apply(lambda time: time.month)\n",
    "df['day'] = df['date_added'].apply(lambda time: time.dayofweek)"
   ]
  },
  {
   "cell_type": "code",
   "execution_count": 33,
   "metadata": {},
   "outputs": [],
   "source": [
    "mmap = {1:'Jan',2:'Feb',3:'Mar',4:'Apr',5:'May',6:'Jun',7:'Jul',8:'Ago',9:'Sept',10:'Oct',11:'Nov',12:'Dec'}"
   ]
  },
  {
   "cell_type": "code",
   "execution_count": 34,
   "metadata": {},
   "outputs": [],
   "source": [
    "df['month'] = df['month'].map(mmap)"
   ]
  },
  {
   "cell_type": "code",
   "execution_count": 35,
   "metadata": {},
   "outputs": [],
   "source": [
    "dmap = {0:'Mon',1:'Tue',2:'Wed',3:'Thu',4:'Fri',5:'Sat',6:'Sun'}"
   ]
  },
  {
   "cell_type": "code",
   "execution_count": 36,
   "metadata": {},
   "outputs": [],
   "source": [
    "df['day'] = df['day'].map(dmap)"
   ]
  },
  {
   "cell_type": "code",
   "execution_count": 37,
   "metadata": {},
   "outputs": [
    {
     "data": {
      "text/plain": [
       "Fri    1910\n",
       "Thu     854\n",
       "Tue     845\n",
       "Wed     758\n",
       "Mon     694\n",
       "Sat     598\n",
       "Sun     564\n",
       "Name: day, dtype: int64"
      ]
     },
     "execution_count": 37,
     "metadata": {},
     "output_type": "execute_result"
    }
   ],
   "source": [
    "df['day'].value_counts()"
   ]
  },
  {
   "cell_type": "code",
   "execution_count": 38,
   "metadata": {},
   "outputs": [
    {
     "data": {
      "text/plain": [
       "Dec     696\n",
       "Oct     646\n",
       "Nov     612\n",
       "Jan     610\n",
       "Mar     551\n",
       "Ago     509\n",
       "Sept    479\n",
       "Jul     474\n",
       "Apr     447\n",
       "May     428\n",
       "Jun     393\n",
       "Feb     378\n",
       "Name: month, dtype: int64"
      ]
     },
     "execution_count": 38,
     "metadata": {},
     "output_type": "execute_result"
    }
   ],
   "source": [
    "df['month'].value_counts()"
   ]
  },
  {
   "cell_type": "code",
   "execution_count": 39,
   "metadata": {},
   "outputs": [
    {
     "data": {
      "text/plain": [
       "<matplotlib.legend.Legend at 0x19a8b50d7f0>"
      ]
     },
     "execution_count": 39,
     "metadata": {},
     "output_type": "execute_result"
    },
    {
     "data": {
      "image/png": "[encoded data removed]",
      "text/plain": [
       "<Figure size 432x288 with 1 Axes>"
      ]
     },
     "metadata": {
      "needs_background": "light"
     },
     "output_type": "display_data"
    }
   ],
   "source": [
    "# a maioria dos lançamentos ocorre no mes de janeiro e dezembro\n",
    "\n",
    "\n",
    "\n",
    "# Grafico month da tabela type \n",
    "sns.countplot(x='month', data= df, hue= 'type')\n",
    "\n",
    "# Realocando a legenda\n",
    "plt.legend(bbox_to_anchor=(1.05, 1), loc=2, borderaxespad=0.)"
   ]
  },
  {
   "cell_type": "code",
   "execution_count": 40,
   "metadata": {
    "scrolled": true
   },
   "outputs": [
    {
     "data": {
      "text/plain": [
       "<matplotlib.legend.Legend at 0x19a8b59b940>"
      ]
     },
     "execution_count": 40,
     "metadata": {},
     "output_type": "execute_result"
    },
    {
     "data": {
      "image/png": "[encoded data removed]",
      "text/plain": [
       "<Figure size 432x288 with 1 Axes>"
      ]
     },
     "metadata": {
      "needs_background": "light"
     },
     "output_type": "display_data"
    }
   ],
   "source": [
    "# a maioria dos lançamentos são na sexta-feira\n",
    "\n",
    "\n",
    "# Grafico month da tabela type \n",
    "sns.countplot(x='day', data= df, hue= 'type')\n",
    "\n",
    "# Realocando a legenda\n",
    "plt.legend(bbox_to_anchor=(1.05, 1), loc=2, borderaxespad=0.)"
   ]
  },
  {
   "cell_type": "markdown",
   "metadata": {},
   "source": [
    ""
   ]
  },
  {
   "cell_type": "code",
   "execution_count": null,
   "metadata": {},
   "outputs": [],
   "source": []
  },
  {
   "cell_type": "code",
   "execution_count": null,
   "metadata": {},
   "outputs": [],
   "source": []
  }
 ],
 "metadata": {
  "kernelspec": {
   "display_name": "Python 3",
   "language": "python",
   "name": "python3"
  },
  "language_info": {
   "codemirror_mode": {
    "name": "ipython",
    "version": 3
   },
   "file_extension": ".py",
   "mimetype": "text/x-python",
   "name": "python",
   "nbconvert_exporter": "python",
   "pygments_lexer": "ipython3",
   "version": "3.7.6"
  }
 },
 "nbformat": 4,
 "nbformat_minor": 2
}
